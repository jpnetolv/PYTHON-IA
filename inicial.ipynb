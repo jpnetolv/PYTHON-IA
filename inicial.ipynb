{
 "cells": [
  {
   "cell_type": "code",
   "execution_count": null,
   "metadata": {},
   "outputs": [],
   "source": [
    "# PASSO A PASSO\n",
    "# PASSO 0 - ENTENDER O DESAFIO DA EMPRESA\n",
    "# PASSO 1 - IMPORTAR A BASE DE DADOS\n",
    "# PASSO 2 - PREPARAR A BASE DE DADOS PARA A IA \n",
    "# PASSO 3 - CRIAR UM MODELO DE IA (SCORE DE CREDITO)\n",
    "# PASSO 4 - ESCOLHER O MELHOR MODELO\n",
    "# PASSO 5 - UTILIZAR A IA PARA REALIZAR AS PREVISÕES\n"
   ]
  },
  {
   "cell_type": "code",
   "execution_count": null,
   "metadata": {},
   "outputs": [],
   "source": [
    "# PASSO 1\n",
    "import pandas\n",
    "from sklearn.preprocessing import LabelEncoder\n",
    "from sklearn.model_selection import train_test_split\n",
    "from sklearn.ensemble import RandomForestClassifier\n",
    "from sklearn.neighbors import KNeighborsClassifier\n",
    "from sklearn.metrics import accuracy_score\n",
    "\n",
    "tabela = pandas.read_csv(\"clientes.csv\")\n",
    "display(tabela)"
   ]
  },
  {
   "cell_type": "code",
   "execution_count": null,
   "metadata": {},
   "outputs": [],
   "source": [
    "# PASSO 2 \n",
    "\n",
    "# ANÁLISE PARA ENCONTRAR POSSÍVEIS ERROS\n",
    "display(tabela.info())\n"
   ]
  },
  {
   "cell_type": "code",
   "execution_count": null,
   "metadata": {},
   "outputs": [],
   "source": [
    "# APÓS A ANÁLISE É POSSÍVEL NOTAMOS ALGUMAS COLUNAS COM O TIPO \"object\" QUE SERIA ALGO SEMELHANTE AO TIPO STRING\n",
    "# COMO AS MÁQUINAS NÃO SÃO TREINADAS PARA TRABALHAR COM TEXTOS, APENAS COM NÚMEROS, DEVEMOS TRATAR ESSAS COLUNAS\n",
    "# \"profissao\" ; \"mix_credito\" ; \"corpotamento_pagamento\"\n",
    "# A COLUNA \"score_credito\" NÃO PRECISA SER ALTERADA INICIALMENTE, POIS É O RESULTADO QUE ALMEJAMOS\n",
    "codificador = LabelEncoder()\n",
    "\n",
    "tabela[\"profissao\"] = codificador.fit_transform(tabela[\"profissao\"])\n",
    "tabela[\"mix_credito\"] = codificador.fit_transform(tabela[\"mix_credito\"])\n",
    "tabela[\"comportamento_pagamento\"] = codificador.fit_transform(tabela[\"comportamento_pagamento\"])\n",
    "\n",
    "\n",
    "# ANÁLISE APÓS AS ALTERAÇÕES PARA CONFERIR SE OS ERROS FORAM CORRIGIDOS\n",
    "display(tabela.info())"
   ]
  },
  {
   "cell_type": "code",
   "execution_count": null,
   "metadata": {},
   "outputs": [],
   "source": [
    "# PASSO 3 / PASSO 4\n",
    "# APRENDIZADO DE MÁQUINA\n",
    "# A COLUNA Y É A COLUNA QUE EU QUERO PREVER\n",
    "# AS COLUNAS X SÃO AS COLUNAS QUE IREI UTILIZAR PARA FAZER A PREVISÃO\n",
    "y = tabela[\"score_credito\"]\n",
    "x = tabela.drop(columns=[\"id_cliente\", \"score_credito\"])\n",
    "\n",
    "# A SEGUINTE ORDEM DE VARIÁVEIS DEVE SER SEGUIDA\n",
    "# O METODO \"train_test_split\" SERVE PARA DIVIDIR A BASE DE DADOS EM PARTES DE TREINO E TESTE\n",
    "x_treino, x_test, y_treino, y_test = train_test_split(x, y, test_size=0.3)\n",
    "\n",
    "# CRIAR AS IA's QUE FORAM IMPORTADAS DA BIBLIOTECA SKLEARN\n",
    "modelo_arvoredecisao = RandomForestClassifier()\n",
    "modelo_knn = KNeighborsClassifier()\n",
    "\n",
    "# TREINAR AS IA's\n",
    "modelo_arvoredecisao.fit(x_treino, y_treino)\n",
    "modelo_knn.fit(x_treino, y_treino)\n",
    "\n",
    "# TESTAR AS IA's\n",
    "previsao_avoredecisao = modelo_arvoredecisao.predict(x_test)\n",
    "previsao_knn = modelo_knn.predict(x_test.to_numpy())\n",
    "\n",
    "# REALIZAR A COMPARAÇÃO ENTRE A PREVISÃO E O Y_TESTE, QUE SERIA O RESULTADO A SER ALMEJADO\n",
    "print(accuracy_score(y_test, previsao_avoredecisao))\n",
    "print(accuracy_score(y_test, previsao_knn))\n",
    "\n",
    "# COMO A IA DA ARVORE DE DECISÃO SE MOSTROU MAIS CERTEIRA EM MEIO A COMPARAÇÃO, ELA SERÁ A UTILIZADA\n"
   ]
  },
  {
   "cell_type": "code",
   "execution_count": null,
   "metadata": {},
   "outputs": [],
   "source": [
    "# PASSO 5\n",
    "# IMPORTAR NOVA BASE DE DADOS\n",
    "tabela_nova = pandas.read_csv(\"novos_clientes.csv\")\n",
    "display(tabela_nova)\n",
    "# ANALISAR NOVA BASE DE DADOS\n",
    "display(tabela_nova.info())\n",
    "\n",
    "# NOVAMENTE AS COLUNAS \"profissao\", \"mix_credito\", \"comportamento_pagamento\" ESTÃO EM FORMATOS DIFERENTES DO ESPERADO\n",
    "tabela_nova[\"profissao\"] = codificador.fit_transform(tabela_nova[\"profissao\"])\n",
    "tabela_nova[\"mix_credito\"] = codificador.fit_transform(tabela_nova[\"mix_credito\"])\n",
    "tabela_nova[\"comportamento_pagamento\"] = codificador.fit_transform(tabela_nova[\"comportamento_pagamento\"])\n",
    "\n",
    "# CONFIRMAR A ALTERAÇÃO DOS DADOS\n",
    "display(tabela_nova)\n",
    "display(tabela_nova.info())"
   ]
  },
  {
   "cell_type": "code",
   "execution_count": null,
   "metadata": {},
   "outputs": [],
   "source": [
    "# REALIZAR NOVAS PREVISÕES\n",
    "previsoes = modelo_arvoredecisao.predict(tabela_nova)\n",
    "print(previsoes)"
   ]
  }
 ],
 "metadata": {
  "kernelspec": {
   "display_name": "Python 3",
   "language": "python",
   "name": "python3"
  },
  "language_info": {
   "codemirror_mode": {
    "name": "ipython",
    "version": 3
   },
   "file_extension": ".py",
   "mimetype": "text/x-python",
   "name": "python",
   "nbconvert_exporter": "python",
   "pygments_lexer": "ipython3",
   "version": "3.11.4"
  },
  "orig_nbformat": 4
 },
 "nbformat": 4,
 "nbformat_minor": 2
}
